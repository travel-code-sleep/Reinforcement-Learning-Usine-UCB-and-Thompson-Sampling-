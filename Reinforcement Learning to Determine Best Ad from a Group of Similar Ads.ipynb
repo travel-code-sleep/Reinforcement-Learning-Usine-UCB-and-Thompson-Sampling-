{
 "cells": [
  {
   "cell_type": "code",
   "execution_count": 1,
   "metadata": {},
   "outputs": [],
   "source": [
    "#ad for best luxury vehicle \n",
    "import pandas as pd\n",
    "import numpy as np\n",
    "import matplotlib.pyplot as plt\n",
    "import math\n",
    "import seaborn as sns"
   ]
  },
  {
   "cell_type": "code",
   "execution_count": 2,
   "metadata": {},
   "outputs": [],
   "source": [
    "dataset = pd.read_csv('Ads_CTR_Optimisation.csv')"
   ]
  },
  {
   "cell_type": "code",
   "execution_count": 3,
   "metadata": {
    "scrolled": false
   },
   "outputs": [
    {
     "data": {
      "text/html": [
       "<div>\n",
       "<style scoped>\n",
       "    .dataframe tbody tr th:only-of-type {\n",
       "        vertical-align: middle;\n",
       "    }\n",
       "\n",
       "    .dataframe tbody tr th {\n",
       "        vertical-align: top;\n",
       "    }\n",
       "\n",
       "    .dataframe thead th {\n",
       "        text-align: right;\n",
       "    }\n",
       "</style>\n",
       "<table border=\"1\" class=\"dataframe\">\n",
       "  <thead>\n",
       "    <tr style=\"text-align: right;\">\n",
       "      <th></th>\n",
       "      <th>Ad 1</th>\n",
       "      <th>Ad 2</th>\n",
       "      <th>Ad 3</th>\n",
       "      <th>Ad 4</th>\n",
       "      <th>Ad 5</th>\n",
       "      <th>Ad 6</th>\n",
       "      <th>Ad 7</th>\n",
       "      <th>Ad 8</th>\n",
       "      <th>Ad 9</th>\n",
       "      <th>Ad 10</th>\n",
       "    </tr>\n",
       "  </thead>\n",
       "  <tbody>\n",
       "    <tr>\n",
       "      <th>count</th>\n",
       "      <td>10000.000000</td>\n",
       "      <td>10000.000000</td>\n",
       "      <td>10000.000000</td>\n",
       "      <td>10000.000000</td>\n",
       "      <td>10000.000000</td>\n",
       "      <td>10000.000000</td>\n",
       "      <td>10000.000000</td>\n",
       "      <td>10000.000000</td>\n",
       "      <td>10000.000000</td>\n",
       "      <td>10000.00000</td>\n",
       "    </tr>\n",
       "    <tr>\n",
       "      <th>mean</th>\n",
       "      <td>0.170300</td>\n",
       "      <td>0.129500</td>\n",
       "      <td>0.072800</td>\n",
       "      <td>0.119600</td>\n",
       "      <td>0.269500</td>\n",
       "      <td>0.012600</td>\n",
       "      <td>0.111200</td>\n",
       "      <td>0.209100</td>\n",
       "      <td>0.095200</td>\n",
       "      <td>0.04890</td>\n",
       "    </tr>\n",
       "    <tr>\n",
       "      <th>std</th>\n",
       "      <td>0.375915</td>\n",
       "      <td>0.335769</td>\n",
       "      <td>0.259821</td>\n",
       "      <td>0.324509</td>\n",
       "      <td>0.443722</td>\n",
       "      <td>0.111546</td>\n",
       "      <td>0.314395</td>\n",
       "      <td>0.406686</td>\n",
       "      <td>0.293506</td>\n",
       "      <td>0.21567</td>\n",
       "    </tr>\n",
       "    <tr>\n",
       "      <th>min</th>\n",
       "      <td>0.000000</td>\n",
       "      <td>0.000000</td>\n",
       "      <td>0.000000</td>\n",
       "      <td>0.000000</td>\n",
       "      <td>0.000000</td>\n",
       "      <td>0.000000</td>\n",
       "      <td>0.000000</td>\n",
       "      <td>0.000000</td>\n",
       "      <td>0.000000</td>\n",
       "      <td>0.00000</td>\n",
       "    </tr>\n",
       "    <tr>\n",
       "      <th>25%</th>\n",
       "      <td>0.000000</td>\n",
       "      <td>0.000000</td>\n",
       "      <td>0.000000</td>\n",
       "      <td>0.000000</td>\n",
       "      <td>0.000000</td>\n",
       "      <td>0.000000</td>\n",
       "      <td>0.000000</td>\n",
       "      <td>0.000000</td>\n",
       "      <td>0.000000</td>\n",
       "      <td>0.00000</td>\n",
       "    </tr>\n",
       "    <tr>\n",
       "      <th>50%</th>\n",
       "      <td>0.000000</td>\n",
       "      <td>0.000000</td>\n",
       "      <td>0.000000</td>\n",
       "      <td>0.000000</td>\n",
       "      <td>0.000000</td>\n",
       "      <td>0.000000</td>\n",
       "      <td>0.000000</td>\n",
       "      <td>0.000000</td>\n",
       "      <td>0.000000</td>\n",
       "      <td>0.00000</td>\n",
       "    </tr>\n",
       "    <tr>\n",
       "      <th>75%</th>\n",
       "      <td>0.000000</td>\n",
       "      <td>0.000000</td>\n",
       "      <td>0.000000</td>\n",
       "      <td>0.000000</td>\n",
       "      <td>1.000000</td>\n",
       "      <td>0.000000</td>\n",
       "      <td>0.000000</td>\n",
       "      <td>0.000000</td>\n",
       "      <td>0.000000</td>\n",
       "      <td>0.00000</td>\n",
       "    </tr>\n",
       "    <tr>\n",
       "      <th>max</th>\n",
       "      <td>1.000000</td>\n",
       "      <td>1.000000</td>\n",
       "      <td>1.000000</td>\n",
       "      <td>1.000000</td>\n",
       "      <td>1.000000</td>\n",
       "      <td>1.000000</td>\n",
       "      <td>1.000000</td>\n",
       "      <td>1.000000</td>\n",
       "      <td>1.000000</td>\n",
       "      <td>1.00000</td>\n",
       "    </tr>\n",
       "  </tbody>\n",
       "</table>\n",
       "</div>"
      ],
      "text/plain": [
       "               Ad 1          Ad 2          Ad 3          Ad 4          Ad 5  \\\n",
       "count  10000.000000  10000.000000  10000.000000  10000.000000  10000.000000   \n",
       "mean       0.170300      0.129500      0.072800      0.119600      0.269500   \n",
       "std        0.375915      0.335769      0.259821      0.324509      0.443722   \n",
       "min        0.000000      0.000000      0.000000      0.000000      0.000000   \n",
       "25%        0.000000      0.000000      0.000000      0.000000      0.000000   \n",
       "50%        0.000000      0.000000      0.000000      0.000000      0.000000   \n",
       "75%        0.000000      0.000000      0.000000      0.000000      1.000000   \n",
       "max        1.000000      1.000000      1.000000      1.000000      1.000000   \n",
       "\n",
       "               Ad 6          Ad 7          Ad 8          Ad 9        Ad 10  \n",
       "count  10000.000000  10000.000000  10000.000000  10000.000000  10000.00000  \n",
       "mean       0.012600      0.111200      0.209100      0.095200      0.04890  \n",
       "std        0.111546      0.314395      0.406686      0.293506      0.21567  \n",
       "min        0.000000      0.000000      0.000000      0.000000      0.00000  \n",
       "25%        0.000000      0.000000      0.000000      0.000000      0.00000  \n",
       "50%        0.000000      0.000000      0.000000      0.000000      0.00000  \n",
       "75%        0.000000      0.000000      0.000000      0.000000      0.00000  \n",
       "max        1.000000      1.000000      1.000000      1.000000      1.00000  "
      ]
     },
     "execution_count": 3,
     "metadata": {},
     "output_type": "execute_result"
    }
   ],
   "source": [
    "dataset.describe()"
   ]
  },
  {
   "cell_type": "code",
   "execution_count": 71,
   "metadata": {},
   "outputs": [
    {
     "data": {
      "text/html": [
       "<div>\n",
       "<style scoped>\n",
       "    .dataframe tbody tr th:only-of-type {\n",
       "        vertical-align: middle;\n",
       "    }\n",
       "\n",
       "    .dataframe tbody tr th {\n",
       "        vertical-align: top;\n",
       "    }\n",
       "\n",
       "    .dataframe thead th {\n",
       "        text-align: right;\n",
       "    }\n",
       "</style>\n",
       "<table border=\"1\" class=\"dataframe\">\n",
       "  <thead>\n",
       "    <tr style=\"text-align: right;\">\n",
       "      <th></th>\n",
       "      <th>Ad 1</th>\n",
       "      <th>Ad 2</th>\n",
       "      <th>Ad 3</th>\n",
       "      <th>Ad 4</th>\n",
       "      <th>Ad 5</th>\n",
       "      <th>Ad 6</th>\n",
       "      <th>Ad 7</th>\n",
       "      <th>Ad 8</th>\n",
       "      <th>Ad 9</th>\n",
       "      <th>Ad 10</th>\n",
       "    </tr>\n",
       "  </thead>\n",
       "  <tbody>\n",
       "    <tr>\n",
       "      <th>0</th>\n",
       "      <td>1</td>\n",
       "      <td>0</td>\n",
       "      <td>0</td>\n",
       "      <td>0</td>\n",
       "      <td>1</td>\n",
       "      <td>0</td>\n",
       "      <td>0</td>\n",
       "      <td>0</td>\n",
       "      <td>1</td>\n",
       "      <td>0</td>\n",
       "    </tr>\n",
       "    <tr>\n",
       "      <th>1</th>\n",
       "      <td>0</td>\n",
       "      <td>0</td>\n",
       "      <td>0</td>\n",
       "      <td>0</td>\n",
       "      <td>0</td>\n",
       "      <td>0</td>\n",
       "      <td>0</td>\n",
       "      <td>0</td>\n",
       "      <td>1</td>\n",
       "      <td>0</td>\n",
       "    </tr>\n",
       "    <tr>\n",
       "      <th>2</th>\n",
       "      <td>0</td>\n",
       "      <td>0</td>\n",
       "      <td>0</td>\n",
       "      <td>0</td>\n",
       "      <td>0</td>\n",
       "      <td>0</td>\n",
       "      <td>0</td>\n",
       "      <td>0</td>\n",
       "      <td>0</td>\n",
       "      <td>0</td>\n",
       "    </tr>\n",
       "    <tr>\n",
       "      <th>3</th>\n",
       "      <td>0</td>\n",
       "      <td>1</td>\n",
       "      <td>0</td>\n",
       "      <td>0</td>\n",
       "      <td>0</td>\n",
       "      <td>0</td>\n",
       "      <td>0</td>\n",
       "      <td>1</td>\n",
       "      <td>0</td>\n",
       "      <td>0</td>\n",
       "    </tr>\n",
       "    <tr>\n",
       "      <th>4</th>\n",
       "      <td>0</td>\n",
       "      <td>0</td>\n",
       "      <td>0</td>\n",
       "      <td>0</td>\n",
       "      <td>0</td>\n",
       "      <td>0</td>\n",
       "      <td>0</td>\n",
       "      <td>0</td>\n",
       "      <td>0</td>\n",
       "      <td>0</td>\n",
       "    </tr>\n",
       "  </tbody>\n",
       "</table>\n",
       "</div>"
      ],
      "text/plain": [
       "   Ad 1  Ad 2  Ad 3  Ad 4  Ad 5  Ad 6  Ad 7  Ad 8  Ad 9  Ad 10\n",
       "0     1     0     0     0     1     0     0     0     1      0\n",
       "1     0     0     0     0     0     0     0     0     1      0\n",
       "2     0     0     0     0     0     0     0     0     0      0\n",
       "3     0     1     0     0     0     0     0     1     0      0\n",
       "4     0     0     0     0     0     0     0     0     0      0"
      ]
     },
     "execution_count": 71,
     "metadata": {},
     "output_type": "execute_result"
    }
   ],
   "source": [
    "dataset.head()"
   ]
  },
  {
   "cell_type": "code",
   "execution_count": 6,
   "metadata": {},
   "outputs": [],
   "source": [
    "#Implement Random Selection \n",
    "import random\n",
    "N = 10000\n",
    "d = 10\n",
    "ads_selected = []\n",
    "total_reward = 0\n",
    "for n in range(0,N):\n",
    "    ad = random.randrange(d)\n",
    "    ads_selected.append(ad)\n",
    "    reward = dataset.values[n,ad]\n",
    "    total_reward = total_reward+reward"
   ]
  },
  {
   "cell_type": "code",
   "execution_count": 7,
   "metadata": {},
   "outputs": [
    {
     "data": {
      "text/plain": [
       "Text(0,0.5,'Frequence of Ad Selection')"
      ]
     },
     "execution_count": 7,
     "metadata": {},
     "output_type": "execute_result"
    },
    {
     "data": {
      "image/png": "[encoded data removed]",
      "text/plain": [
       "<Figure size 432x288 with 1 Axes>"
      ]
     },
     "metadata": {},
     "output_type": "display_data"
    }
   ],
   "source": [
    "#Visualize Results Histogram \n",
    "plt.hist(ads_selected)\n",
    "plt.title('Histogram of ads Selection')\n",
    "plt.xlabel('Ads')\n",
    "plt.ylabel('Frequence of Ad Selection')"
   ]
  },
  {
   "cell_type": "code",
   "execution_count": 8,
   "metadata": {},
   "outputs": [
    {
     "data": {
      "text/plain": [
       "1247"
      ]
     },
     "execution_count": 8,
     "metadata": {},
     "output_type": "execute_result"
    }
   ],
   "source": [
    "total_reward"
   ]
  },
  {
   "cell_type": "markdown",
   "metadata": {},
   "source": [
    "# Implementing UCB"
   ]
  },
  {
   "cell_type": "code",
   "execution_count": 60,
   "metadata": {},
   "outputs": [],
   "source": [
    "no_of_selections = [0]*len(dataset.columns)\n",
    "sums_of_rewards = [0]*len(dataset.columns)\n",
    "ads_selected = []"
   ]
  },
  {
   "cell_type": "code",
   "execution_count": 61,
   "metadata": {},
   "outputs": [],
   "source": [
    "total_reward = 0\n",
    "for n in range(0,dataset.index.size):\n",
    "    ad = 0\n",
    "    max_upper_bound = 0\n",
    "    for i in range(0,10):\n",
    "        if no_of_selections[i]>0:\n",
    "            avg_reward = sums_of_rewards[i]/no_of_selections[i]\n",
    "            delta_i = math.sqrt((3/2)* (math.log(n+1)/no_of_selections[i]))\n",
    "            upper_bound = avg_reward+delta_i\n",
    "        else:\n",
    "            upper_bound = 1e400\n",
    "        if upper_bound>max_upper_bound:\n",
    "            max_upper_bound = upper_bound\n",
    "            ad = i\n",
    "        #if n<11:\n",
    "         #   print(upper_bound, max_upper_bound, ad)\n",
    "    ads_selected.append(ad)\n",
    "    no_of_selections[ad] = no_of_selections[ad] +1\n",
    "    reward = dataset.values[n,ad]\n",
    "    sums_of_rewards[ad] = sums_of_rewards[ad]+ reward\n",
    "    total_reward = total_reward+reward \n",
    "    #Visualizing Results \n",
    "    #if n<11:\n",
    "     #       print(no_of_selections, reward, sums_of_rewards,total_reward)"
   ]
  },
  {
   "cell_type": "code",
   "execution_count": 62,
   "metadata": {},
   "outputs": [
    {
     "name": "stdout",
     "output_type": "stream",
     "text": [
      "2178\n",
      "\n",
      "\n",
      "[120, 47, 7, 38, 1675, 1, 27, 236, 20, 7]\n"
     ]
    }
   ],
   "source": [
    "print(total_reward)\n",
    "print('\\n')\n",
    "print(sums_of_rewards)"
   ]
  },
  {
   "cell_type": "code",
   "execution_count": 66,
   "metadata": {
    "scrolled": false
   },
   "outputs": [
    {
     "data": {
      "text/plain": [
       "'[4, 4, 4, 4, 4, 4, 4, 4, 4, 4, 4, 4, 4, 4, 0, 4, 2, 5, 6, 3, 8, 8, 8, 8, 1, 8, 7, 4, 9, 4, 0, 0, 0, 0, 0, 0, 0, 0, 0, 0, 0, 4, 7, 0, 6, 4, 1, 8, 3, 2, 5, 4, 4, 4, 4, 4, 4, 4, 7, 9, 0, 4, 6, 4, 1, 8, 7, 7, 7, 7, 3, 4, 0, 0, 0, 0, 0, 0, 0, 0, 2, 5, 7, 4, 9, 6, 4, 0, 4, 4, 4, 4, 4, 4, 4, 4, 4, 4, 4, 4, 4, 4, 4, 4, 4, 4, 4, 4, 4, 4, 4, 4, 4, 4, 4, 4, 4, 4, 4, 4, 4, 4, 4, 1, 8, 4, 3, 7, 4, 6, 4, 2, 5, 9, 0, 7, 4, 1, 8, 4, 4, 4, 4, 4, 4, 4, 4, 4, 3, 4, 7, 7, 7, 7, 6, 4, 0, 4, 7, 7, 7, 7, 7, 7, 7, 7, 7, 7, 7, 7, 7, 7, 9, 2, 5, 7, 4, 1, 1, 1, 1, 1, 8, 3, 0, 4, 6, 4, 7, 7, 7, 7, 7, 7, 7, 7, 7, 7, 7, 4, 9, 1, 0, 0, 0, 0, 0, 0, 0, 0, 0, 0, 0, 8, 2, 5, 7, 4, 0, 3, 6, 4, 4, 4, 4, 4, 7, 0, 0, 0, 0, 0, 0, 0, 0, 4, 1, 9, 8, 6, 3, 4, 4, 4, 4, 7, 2, 5, 0, 4, 4, 7, 1, 6, 4, 8, 9, 0, 3, 4, 7, 4, 2, 5, 4, 0, 6, 1, 4, 7, 8, 9, 3, 3, 3, 3, 3, 3, 3, 3, 3, 4, 0, 4, 7, 7, 7, 7, 6, 2, 2, 2, 2, 2, 5, 4, 1, 3, 7, 2, 8, 4, 0, 9, 4, 4, 4, 4, 4, 4, 4, 4, 4, 4, 7, 4, 6, 1, 3, 4, 0, 5, 8, 7, 7, 7, 7, 7, 7, 7, 4, 7, 7, 7, 7, 7, 7, 7, 7, 7, 7, 7, 7, 7, 7, 2, 7, 9, 4, 4, 4, 4, 4, 4, 4, 6, 0, 4, 1, 3, 7, 4, 4, 4, 4, 8, 5, 4, 0, 2, 6, 7, 4, 9, 4, 1, 1, 1, 1, 1, 3, 7, 4, 0, 8, 4, 6, 5, 4, 7, 2, 9, 1, 0, 4, 3, 3, 3, 3, 3, 4, 4, 4, 4, 8, 7, 6, 4, 4, 4, 4, 4, 4, 4, 4, 4, 4, 0, 4, 1, 3, 7, 7, 7, 7, 7, 7, 7, 7, 7, 7, 7, 7, 7, 7, 7, 7, 7, 7, 7, 7, 7, 7, 7, 7, 7, 7, 7, 7, 5, 9, 2, 4, 4, 4, 4, 4, 4, 4, 4, 4, 4, 7, 7, 7, 7, 7, 7, 7, 7, 7, 7, 7, 7, 7, 7, 7, 7, 7, 7, 7, 7, 7, 7, 7, 7, 7, 7, 7, 7, 7, 7, 7, 7, 7, 7, 7, 7, 7, 7]'"
      ]
     },
     "execution_count": 66,
     "metadata": {},
     "output_type": "execute_result"
    }
   ],
   "source": [
    "str(ads_selected[1500:2000])"
   ]
  },
  {
   "cell_type": "code",
   "execution_count": 67,
   "metadata": {},
   "outputs": [
    {
     "data": {
      "image/png": "[encoded data removed]",
      "text/plain": [
       "<Figure size 1200x400 with 2 Axes>"
      ]
     },
     "metadata": {},
     "output_type": "display_data"
    }
   ],
   "source": [
    "#Visualizing Results\n",
    "fig, axes = plt.subplots(nrows=1, ncols=2,figsize=(12, 4))\n",
    "fig.dpi=100\n",
    "axes[0].plot(sums_of_rewards)\n",
    "axes[0].set_title('Rewards')\n",
    "axes[1].hist(ads_selected)\n",
    "axes[1].set_title('Distribution of Ads Selection')\n",
    "axes[1].set_xlabel('Ads')\n",
    "axes[1].set_ylabel('Number of Times Displayed')\n",
    "plt.tight_layout()"
   ]
  },
  {
   "cell_type": "markdown",
   "metadata": {},
   "source": [
    "# Implement Thompson Sampling"
   ]
  },
  {
   "cell_type": "markdown",
   "metadata": {},
   "source": [
    "Use Thompson Sampling to Improve Results. Add delayed feedback."
   ]
  },
  {
   "cell_type": "code",
   "execution_count": 128,
   "metadata": {},
   "outputs": [],
   "source": [
    "no_of_rewards1 = [0]*len(dataset.columns)\n",
    "no_of_rewards0 = [0]*len(dataset.columns)\n",
    "ads_selected = []"
   ]
  },
  {
   "cell_type": "code",
   "execution_count": 129,
   "metadata": {},
   "outputs": [],
   "source": [
    "#Highest Probability of Success \n",
    "for n in range(0,dataset.index.size):\n",
    "    ad = 0\n",
    "    max_random = 0\n",
    "    for i in range(0,10):\n",
    "        random_beta = random.betavariate(no_of_rewards1[i]+1,no_of_rewards0[i]+1)\n",
    "        if random_beta>max_random:\n",
    "            max_random = random_beta\n",
    "            ad = i\n",
    "    ads_selected.append(ad)\n",
    "    reward = dataset.values[n,ad]\n",
    "    if reward == 1:\n",
    "        no_of_rewards1[ad] +=1\n",
    "    else:\n",
    "        no_of_rewards0[ad] +=1 "
   ]
  },
  {
   "cell_type": "code",
   "execution_count": 133,
   "metadata": {},
   "outputs": [
    {
     "name": "stdout",
     "output_type": "stream",
     "text": [
      "total reward 2607\n"
     ]
    },
    {
     "data": {
      "text/plain": [
       "<matplotlib.lines.Line2D at 0x1f20b267be0>"
      ]
     },
     "execution_count": 133,
     "metadata": {},
     "output_type": "execute_result"
    },
    {
     "data": {
      "image/png": "[encoded data removed]",
      "text/plain": [
       "<Figure size 864x432 with 1 Axes>"
      ]
     },
     "metadata": {},
     "output_type": "display_data"
    }
   ],
   "source": [
    "print('total reward',sum(no_of_rewards1))\n",
    "#Visualizing Results\n",
    "plt.figure(figsize=(12,6))\n",
    "plt.hist(ads_selected,color='black')\n",
    "plt.title('Distribution of Ads Selection')\n",
    "plt.xlabel('Ads')\n",
    "plt.ylabel('Number of Times Displayed')\n",
    "plt.axhline(y=total_reward, color='r', linestyle='--')\n"
   ]
  },
  {
   "cell_type": "code",
   "execution_count": 1,
   "metadata": {},
   "outputs": [],
   "source": [
    "#import dataset\n",
    "dataset = pd.read_csv('Ads_CTR_Optimisation.csv')\n",
    "#impementing Thompson Sampling\n",
    "ads_selected = []\n",
    "d = len(dataset.count(axis=0))\n",
    "pos_select = [0] * d #number of positive selections to round n\n",
    "neg_select = [0] * d #number of negative selections to round n\n",
    "for index, row in dataset.iterrows():\n",
    "    random_draws = [0] * d\n",
    "    for idx, val in enumerate(row):\n",
    "        random_draws[idx] = random.betavariate(pos_select[idx] + 1, neg_select[idx] + 1)\n",
    "    winner = random_draws.index(max(random_draws))\n",
    "    if dataset.values[index, winner] == 1:\n",
    "        pos_select[winner] += 1\n",
    "    else:\n",
    "        neg_select[winner] += 1\n",
    "    ads_selected.append(winner)\n",
    "total_hits = sum(pos_select)"
   ]
  },
  {
   "cell_type": "code",
   "execution_count": null,
   "metadata": {},
   "outputs": [],
   "source": []
  }
 ],
 "metadata": {
  "kernelspec": {
   "display_name": "Python 3",
   "language": "python",
   "name": "python3"
  },
  "language_info": {
   "codemirror_mode": {
    "name": "ipython",
    "version": 3
   },
   "file_extension": ".py",
   "mimetype": "text/x-python",
   "name": "python",
   "nbconvert_exporter": "python",
   "pygments_lexer": "ipython3",
   "version": "3.6.5"
  }
 },
 "nbformat": 4,
 "nbformat_minor": 2
}
